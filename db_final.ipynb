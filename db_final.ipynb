{
 "cells": [
  {
   "cell_type": "code",
   "execution_count": 48,
   "metadata": {
    "collapsed": true,
    "pycharm": {
     "is_executing": false
    }
   },
   "outputs": [
    {
     "data": {
      "text/plain": "   OBJECTID         GEOID    bg_area_m2       geo_num    kgco2_1980  \\\n0         1  010810416001  6.974538e+06  1.081042e+10  1.541925e+07   \n1         2  010810416002  1.514373e+06  1.081042e+10  1.684527e+06   \n2         3  010810417004  2.406711e+07  1.081042e+10  1.011197e+06   \n3         4  010730111074  7.842046e+06  1.073011e+10  1.220258e+07   \n4         5  010730111084  2.464070e+06  1.073011e+10  1.885830e+07   \n\n     kgco2_1981    kgco2_1982    kgco2_1983    kgco2_1984    kgco2_1985  ...  \\\n0  1.498221e+07  1.478027e+07  1.555027e+07  1.673035e+07  1.799724e+07  ...   \n1  1.644616e+06  1.627762e+06  1.717410e+06  1.851792e+06  1.983965e+06  ...   \n2  9.553904e+05  9.070310e+05  9.095824e+05  9.350337e+05  9.651894e+05  ...   \n3  1.201808e+07  1.175504e+07  1.199131e+07  1.235064e+07  1.251207e+07  ...   \n4  1.855567e+07  1.811886e+07  1.843564e+07  1.883039e+07  1.867163e+07  ...   \n\n     kgco2_2010    kgco2_2011    kgco2_2012    kgco2_2013    kgco2_2014  \\\n0  3.130437e+07  3.121804e+07  3.148056e+07  3.428432e+07  3.457484e+07   \n1  3.591234e+06  3.554152e+06  3.629367e+06  4.008766e+06  4.082605e+06   \n2  2.364471e+06  2.464930e+06  2.535879e+06  2.763211e+06  2.710690e+06   \n3  1.998670e+07  1.870720e+07  1.782668e+07  1.874171e+07  1.906047e+07   \n4  2.533552e+07  2.426322e+07  2.306507e+07  2.370388e+07  2.298938e+07   \n\n     kgco2_2015    kgco2_2016    kgco2_2017  Shape_Length    Shape_Area  \n0  3.683024e+07  3.941261e+07  4.372530e+07  12958.788060  6.974538e+06  \n1  4.359100e+06  4.591699e+06  4.894511e+06   5960.075489  1.514373e+06  \n2  2.734265e+06  2.678873e+06  2.612901e+06  22942.537850  2.406711e+07  \n3  2.137106e+07  2.531525e+07  3.225555e+07  13741.677640  7.842046e+06  \n4  2.394967e+07  2.574883e+07  2.948802e+07  13082.757640  2.464070e+06  \n\n[5 rows x 44 columns]",
      "text/html": "<div>\n<style scoped>\n    .dataframe tbody tr th:only-of-type {\n        vertical-align: middle;\n    }\n\n    .dataframe tbody tr th {\n        vertical-align: top;\n    }\n\n    .dataframe thead th {\n        text-align: right;\n    }\n</style>\n<table border=\"1\" class=\"dataframe\">\n  <thead>\n    <tr style=\"text-align: right;\">\n      <th></th>\n      <th>OBJECTID</th>\n      <th>GEOID</th>\n      <th>bg_area_m2</th>\n      <th>geo_num</th>\n      <th>kgco2_1980</th>\n      <th>kgco2_1981</th>\n      <th>kgco2_1982</th>\n      <th>kgco2_1983</th>\n      <th>kgco2_1984</th>\n      <th>kgco2_1985</th>\n      <th>...</th>\n      <th>kgco2_2010</th>\n      <th>kgco2_2011</th>\n      <th>kgco2_2012</th>\n      <th>kgco2_2013</th>\n      <th>kgco2_2014</th>\n      <th>kgco2_2015</th>\n      <th>kgco2_2016</th>\n      <th>kgco2_2017</th>\n      <th>Shape_Length</th>\n      <th>Shape_Area</th>\n    </tr>\n  </thead>\n  <tbody>\n    <tr>\n      <th>0</th>\n      <td>1</td>\n      <td>010810416001</td>\n      <td>6.974538e+06</td>\n      <td>1.081042e+10</td>\n      <td>1.541925e+07</td>\n      <td>1.498221e+07</td>\n      <td>1.478027e+07</td>\n      <td>1.555027e+07</td>\n      <td>1.673035e+07</td>\n      <td>1.799724e+07</td>\n      <td>...</td>\n      <td>3.130437e+07</td>\n      <td>3.121804e+07</td>\n      <td>3.148056e+07</td>\n      <td>3.428432e+07</td>\n      <td>3.457484e+07</td>\n      <td>3.683024e+07</td>\n      <td>3.941261e+07</td>\n      <td>4.372530e+07</td>\n      <td>12958.788060</td>\n      <td>6.974538e+06</td>\n    </tr>\n    <tr>\n      <th>1</th>\n      <td>2</td>\n      <td>010810416002</td>\n      <td>1.514373e+06</td>\n      <td>1.081042e+10</td>\n      <td>1.684527e+06</td>\n      <td>1.644616e+06</td>\n      <td>1.627762e+06</td>\n      <td>1.717410e+06</td>\n      <td>1.851792e+06</td>\n      <td>1.983965e+06</td>\n      <td>...</td>\n      <td>3.591234e+06</td>\n      <td>3.554152e+06</td>\n      <td>3.629367e+06</td>\n      <td>4.008766e+06</td>\n      <td>4.082605e+06</td>\n      <td>4.359100e+06</td>\n      <td>4.591699e+06</td>\n      <td>4.894511e+06</td>\n      <td>5960.075489</td>\n      <td>1.514373e+06</td>\n    </tr>\n    <tr>\n      <th>2</th>\n      <td>3</td>\n      <td>010810417004</td>\n      <td>2.406711e+07</td>\n      <td>1.081042e+10</td>\n      <td>1.011197e+06</td>\n      <td>9.553904e+05</td>\n      <td>9.070310e+05</td>\n      <td>9.095824e+05</td>\n      <td>9.350337e+05</td>\n      <td>9.651894e+05</td>\n      <td>...</td>\n      <td>2.364471e+06</td>\n      <td>2.464930e+06</td>\n      <td>2.535879e+06</td>\n      <td>2.763211e+06</td>\n      <td>2.710690e+06</td>\n      <td>2.734265e+06</td>\n      <td>2.678873e+06</td>\n      <td>2.612901e+06</td>\n      <td>22942.537850</td>\n      <td>2.406711e+07</td>\n    </tr>\n    <tr>\n      <th>3</th>\n      <td>4</td>\n      <td>010730111074</td>\n      <td>7.842046e+06</td>\n      <td>1.073011e+10</td>\n      <td>1.220258e+07</td>\n      <td>1.201808e+07</td>\n      <td>1.175504e+07</td>\n      <td>1.199131e+07</td>\n      <td>1.235064e+07</td>\n      <td>1.251207e+07</td>\n      <td>...</td>\n      <td>1.998670e+07</td>\n      <td>1.870720e+07</td>\n      <td>1.782668e+07</td>\n      <td>1.874171e+07</td>\n      <td>1.906047e+07</td>\n      <td>2.137106e+07</td>\n      <td>2.531525e+07</td>\n      <td>3.225555e+07</td>\n      <td>13741.677640</td>\n      <td>7.842046e+06</td>\n    </tr>\n    <tr>\n      <th>4</th>\n      <td>5</td>\n      <td>010730111084</td>\n      <td>2.464070e+06</td>\n      <td>1.073011e+10</td>\n      <td>1.885830e+07</td>\n      <td>1.855567e+07</td>\n      <td>1.811886e+07</td>\n      <td>1.843564e+07</td>\n      <td>1.883039e+07</td>\n      <td>1.867163e+07</td>\n      <td>...</td>\n      <td>2.533552e+07</td>\n      <td>2.426322e+07</td>\n      <td>2.306507e+07</td>\n      <td>2.370388e+07</td>\n      <td>2.298938e+07</td>\n      <td>2.394967e+07</td>\n      <td>2.574883e+07</td>\n      <td>2.948802e+07</td>\n      <td>13082.757640</td>\n      <td>2.464070e+06</td>\n    </tr>\n  </tbody>\n</table>\n<p>5 rows × 44 columns</p>\n</div>"
     },
     "metadata": {},
     "output_type": "execute_result",
     "execution_count": 48
    }
   ],
   "source": [
    "import pandas as pd\n",
    "df = pd.read_csv('/Users/wangbo/Desktop/db_final_emission.csv',dtype={'GEOID':str})\n",
    "#df = df.apply(pd.to_numeric)\n",
    "df.head()\n",
    "# df= pd.to_numeric(df, errors='coerce')"
   ]
  },
  {
   "cell_type": "code",
   "execution_count": 49,
   "outputs": [],
   "source": [
    "# group block by county\n",
    "data = df.copy(deep = True)\n",
    "data = data.drop(['OBJECTID'], axis=1)\n",
    "data['GEOID'] = df['GEOID'].map(lambda id:id[:5])\n",
    "data = data.groupby('GEOID').sum()"
   ],
   "metadata": {
    "collapsed": false,
    "pycharm": {
     "name": "#%%\n",
     "is_executing": false
    }
   }
  },
  {
   "cell_type": "code",
   "execution_count": 51,
   "outputs": [],
   "source": [
    "data= data[~(data == 0).any(axis=1)]\n",
    "export_csv = data.to_csv ('/Users/wangbo/Desktop/county_data.csv', header=True)"
   ],
   "metadata": {
    "collapsed": false,
    "pycharm": {
     "name": "#%%\n",
     "is_executing": false
    }
   }
  },
  {
   "cell_type": "code",
   "execution_count": 4,
   "outputs": [
    {
     "data": {
      "text/plain": "   fips  state_fips  county_fips                 areaname     state_name  \\\n0     0           0            0            United States  United States   \n1  1000           1            0                  Alabama        Alabama   \n2  1001           1            1           Autauga County        Alabama   \n3  1001           1         1001  Autauga County, Alabama        Alabama   \n4  1003           1            3           Baldwin County        Alabama   \n\n      county_name      pop1980      pop1981      pop1982      pop1983  ...  \\\n0   United States  226542250.0  229465744.0  231664432.0  233792014.0  ...   \n1         Alabama    3894025.0    3918533.0    3925263.0    3934100.0  ...   \n2  Autauga County      32259.0      31985.0      32036.0      32054.0  ...   \n3  Autauga County          NaN          NaN          NaN          NaN  ...   \n4  Baldwin County      78556.0      80287.0      82331.0      83978.0  ...   \n\n     pop2000    pop2001    pop2002    pop2003    pop2004    pop2005  \\\n0        NaN        NaN        NaN        NaN        NaN        NaN   \n1  4451849.0  4464034.0  4472420.0  4490591.0  4512190.0  4545049.0   \n2    43872.0    44434.0    45157.0    45762.0    46933.0    47870.0   \n3        NaN        NaN        NaN        NaN        NaN        NaN   \n4   141358.0   144988.0   148141.0   151707.0   156573.0   162564.0   \n\n     pop2006    pop2007    pop2008    pop2009  \n0        NaN        NaN        NaN        NaN  \n1  4597688.0  4637904.0  4677464.0  4708708.0  \n2    49105.0    49834.0    50354.0    50756.0  \n3        NaN        NaN        NaN        NaN  \n4   168516.0   172815.0   176212.0   179878.0  \n\n[5 rows x 36 columns]",
      "text/html": "<div>\n<style scoped>\n    .dataframe tbody tr th:only-of-type {\n        vertical-align: middle;\n    }\n\n    .dataframe tbody tr th {\n        vertical-align: top;\n    }\n\n    .dataframe thead th {\n        text-align: right;\n    }\n</style>\n<table border=\"1\" class=\"dataframe\">\n  <thead>\n    <tr style=\"text-align: right;\">\n      <th></th>\n      <th>fips</th>\n      <th>state_fips</th>\n      <th>county_fips</th>\n      <th>areaname</th>\n      <th>state_name</th>\n      <th>county_name</th>\n      <th>pop1980</th>\n      <th>pop1981</th>\n      <th>pop1982</th>\n      <th>pop1983</th>\n      <th>...</th>\n      <th>pop2000</th>\n      <th>pop2001</th>\n      <th>pop2002</th>\n      <th>pop2003</th>\n      <th>pop2004</th>\n      <th>pop2005</th>\n      <th>pop2006</th>\n      <th>pop2007</th>\n      <th>pop2008</th>\n      <th>pop2009</th>\n    </tr>\n  </thead>\n  <tbody>\n    <tr>\n      <th>0</th>\n      <td>0</td>\n      <td>0</td>\n      <td>0</td>\n      <td>United States</td>\n      <td>United States</td>\n      <td>United States</td>\n      <td>226542250.0</td>\n      <td>229465744.0</td>\n      <td>231664432.0</td>\n      <td>233792014.0</td>\n      <td>...</td>\n      <td>NaN</td>\n      <td>NaN</td>\n      <td>NaN</td>\n      <td>NaN</td>\n      <td>NaN</td>\n      <td>NaN</td>\n      <td>NaN</td>\n      <td>NaN</td>\n      <td>NaN</td>\n      <td>NaN</td>\n    </tr>\n    <tr>\n      <th>1</th>\n      <td>1000</td>\n      <td>1</td>\n      <td>0</td>\n      <td>Alabama</td>\n      <td>Alabama</td>\n      <td>Alabama</td>\n      <td>3894025.0</td>\n      <td>3918533.0</td>\n      <td>3925263.0</td>\n      <td>3934100.0</td>\n      <td>...</td>\n      <td>4451849.0</td>\n      <td>4464034.0</td>\n      <td>4472420.0</td>\n      <td>4490591.0</td>\n      <td>4512190.0</td>\n      <td>4545049.0</td>\n      <td>4597688.0</td>\n      <td>4637904.0</td>\n      <td>4677464.0</td>\n      <td>4708708.0</td>\n    </tr>\n    <tr>\n      <th>2</th>\n      <td>1001</td>\n      <td>1</td>\n      <td>1</td>\n      <td>Autauga County</td>\n      <td>Alabama</td>\n      <td>Autauga County</td>\n      <td>32259.0</td>\n      <td>31985.0</td>\n      <td>32036.0</td>\n      <td>32054.0</td>\n      <td>...</td>\n      <td>43872.0</td>\n      <td>44434.0</td>\n      <td>45157.0</td>\n      <td>45762.0</td>\n      <td>46933.0</td>\n      <td>47870.0</td>\n      <td>49105.0</td>\n      <td>49834.0</td>\n      <td>50354.0</td>\n      <td>50756.0</td>\n    </tr>\n    <tr>\n      <th>3</th>\n      <td>1001</td>\n      <td>1</td>\n      <td>1001</td>\n      <td>Autauga County, Alabama</td>\n      <td>Alabama</td>\n      <td>Autauga County</td>\n      <td>NaN</td>\n      <td>NaN</td>\n      <td>NaN</td>\n      <td>NaN</td>\n      <td>...</td>\n      <td>NaN</td>\n      <td>NaN</td>\n      <td>NaN</td>\n      <td>NaN</td>\n      <td>NaN</td>\n      <td>NaN</td>\n      <td>NaN</td>\n      <td>NaN</td>\n      <td>NaN</td>\n      <td>NaN</td>\n    </tr>\n    <tr>\n      <th>4</th>\n      <td>1003</td>\n      <td>1</td>\n      <td>3</td>\n      <td>Baldwin County</td>\n      <td>Alabama</td>\n      <td>Baldwin County</td>\n      <td>78556.0</td>\n      <td>80287.0</td>\n      <td>82331.0</td>\n      <td>83978.0</td>\n      <td>...</td>\n      <td>141358.0</td>\n      <td>144988.0</td>\n      <td>148141.0</td>\n      <td>151707.0</td>\n      <td>156573.0</td>\n      <td>162564.0</td>\n      <td>168516.0</td>\n      <td>172815.0</td>\n      <td>176212.0</td>\n      <td>179878.0</td>\n    </tr>\n  </tbody>\n</table>\n<p>5 rows × 36 columns</p>\n</div>"
     },
     "metadata": {},
     "output_type": "execute_result",
     "execution_count": 4
    }
   ],
   "source": [
    "import pandas as pd\n",
    "df2 = pd.read_csv('/Users/wangbo/Desktop/CS5200/finalProject/data/us_county_population_1970_2014.csv',encoding = \"ISO-8859-1\")\n",
    "df2.head()"
   ],
   "metadata": {
    "collapsed": false,
    "pycharm": {
     "name": "#%%\n",
     "is_executing": false
    }
   }
  },
  {
   "cell_type": "code",
   "execution_count": 10,
   "outputs": [
    {
     "data": {
      "text/plain": "   fips state_name     county_name    pop1980    pop1981    pop1982  \\\n1  1000    Alabama         Alabama  3894025.0  3918533.0  3925263.0   \n2  1001    Alabama  Autauga County    32259.0    31985.0    32036.0   \n4  1003    Alabama  Baldwin County    78556.0    80287.0    82331.0   \n7  1005    Alabama  Barbour County    24756.0    24748.0    24777.0   \n9  1007    Alabama     Bibb County    15723.0    15836.0    16020.0   \n\n     pop1983    pop1984    pop1985    pop1986  ...    pop2000    pop2001  \\\n1  3934100.0  3951824.0  3972520.0  3991569.0  ...  4451849.0  4464034.0   \n2    32054.0    32134.0    32245.0    32893.0  ...    43872.0    44434.0   \n4    83978.0    86752.0    89401.0    91311.0  ...   141358.0   144988.0   \n7    24798.0    24952.0    25002.0    24941.0  ...    29035.0    29223.0   \n9    15999.0    16089.0    16157.0    15918.0  ...    19936.0    20942.0   \n\n     pop2002    pop2003    pop2004    pop2005    pop2006    pop2007  \\\n1  4472420.0  4490591.0  4512190.0  4545049.0  4597688.0  4637904.0   \n2    45157.0    45762.0    46933.0    47870.0    49105.0    49834.0   \n4   148141.0   151707.0   156573.0   162564.0   168516.0   172815.0   \n7    29289.0    29480.0    29458.0    29452.0    29556.0    29736.0   \n9    20983.0    21037.0    21208.0    21375.0    21285.0    21485.0   \n\n     pop2008    pop2009  \n1  4677464.0  4708708.0  \n2    50354.0    50756.0  \n4   176212.0   179878.0  \n7    29836.0    29737.0  \n9    21589.0    21587.0  \n\n[5 rows x 33 columns]",
      "text/html": "<div>\n<style scoped>\n    .dataframe tbody tr th:only-of-type {\n        vertical-align: middle;\n    }\n\n    .dataframe tbody tr th {\n        vertical-align: top;\n    }\n\n    .dataframe thead th {\n        text-align: right;\n    }\n</style>\n<table border=\"1\" class=\"dataframe\">\n  <thead>\n    <tr style=\"text-align: right;\">\n      <th></th>\n      <th>fips</th>\n      <th>state_name</th>\n      <th>county_name</th>\n      <th>pop1980</th>\n      <th>pop1981</th>\n      <th>pop1982</th>\n      <th>pop1983</th>\n      <th>pop1984</th>\n      <th>pop1985</th>\n      <th>pop1986</th>\n      <th>...</th>\n      <th>pop2000</th>\n      <th>pop2001</th>\n      <th>pop2002</th>\n      <th>pop2003</th>\n      <th>pop2004</th>\n      <th>pop2005</th>\n      <th>pop2006</th>\n      <th>pop2007</th>\n      <th>pop2008</th>\n      <th>pop2009</th>\n    </tr>\n  </thead>\n  <tbody>\n    <tr>\n      <th>1</th>\n      <td>1000</td>\n      <td>Alabama</td>\n      <td>Alabama</td>\n      <td>3894025.0</td>\n      <td>3918533.0</td>\n      <td>3925263.0</td>\n      <td>3934100.0</td>\n      <td>3951824.0</td>\n      <td>3972520.0</td>\n      <td>3991569.0</td>\n      <td>...</td>\n      <td>4451849.0</td>\n      <td>4464034.0</td>\n      <td>4472420.0</td>\n      <td>4490591.0</td>\n      <td>4512190.0</td>\n      <td>4545049.0</td>\n      <td>4597688.0</td>\n      <td>4637904.0</td>\n      <td>4677464.0</td>\n      <td>4708708.0</td>\n    </tr>\n    <tr>\n      <th>2</th>\n      <td>1001</td>\n      <td>Alabama</td>\n      <td>Autauga County</td>\n      <td>32259.0</td>\n      <td>31985.0</td>\n      <td>32036.0</td>\n      <td>32054.0</td>\n      <td>32134.0</td>\n      <td>32245.0</td>\n      <td>32893.0</td>\n      <td>...</td>\n      <td>43872.0</td>\n      <td>44434.0</td>\n      <td>45157.0</td>\n      <td>45762.0</td>\n      <td>46933.0</td>\n      <td>47870.0</td>\n      <td>49105.0</td>\n      <td>49834.0</td>\n      <td>50354.0</td>\n      <td>50756.0</td>\n    </tr>\n    <tr>\n      <th>4</th>\n      <td>1003</td>\n      <td>Alabama</td>\n      <td>Baldwin County</td>\n      <td>78556.0</td>\n      <td>80287.0</td>\n      <td>82331.0</td>\n      <td>83978.0</td>\n      <td>86752.0</td>\n      <td>89401.0</td>\n      <td>91311.0</td>\n      <td>...</td>\n      <td>141358.0</td>\n      <td>144988.0</td>\n      <td>148141.0</td>\n      <td>151707.0</td>\n      <td>156573.0</td>\n      <td>162564.0</td>\n      <td>168516.0</td>\n      <td>172815.0</td>\n      <td>176212.0</td>\n      <td>179878.0</td>\n    </tr>\n    <tr>\n      <th>7</th>\n      <td>1005</td>\n      <td>Alabama</td>\n      <td>Barbour County</td>\n      <td>24756.0</td>\n      <td>24748.0</td>\n      <td>24777.0</td>\n      <td>24798.0</td>\n      <td>24952.0</td>\n      <td>25002.0</td>\n      <td>24941.0</td>\n      <td>...</td>\n      <td>29035.0</td>\n      <td>29223.0</td>\n      <td>29289.0</td>\n      <td>29480.0</td>\n      <td>29458.0</td>\n      <td>29452.0</td>\n      <td>29556.0</td>\n      <td>29736.0</td>\n      <td>29836.0</td>\n      <td>29737.0</td>\n    </tr>\n    <tr>\n      <th>9</th>\n      <td>1007</td>\n      <td>Alabama</td>\n      <td>Bibb County</td>\n      <td>15723.0</td>\n      <td>15836.0</td>\n      <td>16020.0</td>\n      <td>15999.0</td>\n      <td>16089.0</td>\n      <td>16157.0</td>\n      <td>15918.0</td>\n      <td>...</td>\n      <td>19936.0</td>\n      <td>20942.0</td>\n      <td>20983.0</td>\n      <td>21037.0</td>\n      <td>21208.0</td>\n      <td>21375.0</td>\n      <td>21285.0</td>\n      <td>21485.0</td>\n      <td>21589.0</td>\n      <td>21587.0</td>\n    </tr>\n  </tbody>\n</table>\n<p>5 rows × 33 columns</p>\n</div>"
     },
     "metadata": {},
     "output_type": "execute_result",
     "execution_count": 10
    }
   ],
   "source": [
    "df2=df2.dropna()\n",
    "df2=df2.drop(['state_fips',\t'county_fips',\t'areaname'],axis=1)\n",
    "df2.head()\n",
    "export_csv = df2.to_csv ('/Users/wangbo/Desktop/population_data.csv', header=True, index=False)"
   ],
   "metadata": {
    "collapsed": false,
    "pycharm": {
     "name": "#%%\n",
     "is_executing": false
    }
   }
  },
  {
   "cell_type": "code",
   "execution_count": null,
   "outputs": [],
   "source": [
    "df3 = pd.read_csv('/Users/wangbo/Desktop/CS5200/finalProject/data/population_2010plus.csv',encoding = \"ISO-8859-1\")\n",
    "df3=df3.dropna()\n",
    "df3.reset_index(inplace=True)\n",
    "df2.reset_index(inplace=True)"
   ],
   "metadata": {
    "collapsed": false,
    "pycharm": {
     "name": "#%%\n"
    }
   }
  },
  {
   "cell_type": "code",
   "execution_count": null,
   "outputs": [],
   "source": [
    "result = pd.concat([df2, df3], axis=1,join='inner')\n",
    "result.head()"
   ],
   "metadata": {
    "collapsed": false,
    "pycharm": {
     "name": "#%%\n"
    }
   }
  },
  {
   "cell_type": "code",
   "execution_count": null,
   "outputs": [],
   "source": [
    "import pandas as pd\n",
    "newdf1 = pd.read_csv('/Users/wangbo/Desktop/CS5200/finalProject/data/data_noemission.csv');\n",
    "newdf1 = newdf1.iloc[:,0:40].dropna()\n",
    "newdf1['fips']=newdf1['fips'].map(int)\n",
    "newdf1.head()\n"
   ],
   "metadata": {
    "collapsed": false,
    "pycharm": {
     "name": "#%%\n"
    }
   }
  },
  {
   "cell_type": "code",
   "execution_count": null,
   "outputs": [],
   "source": [
    "edf = pd.read_csv('/Users/wangbo/Desktop/county_data.csv')\n",
    "edf.head()\n"
   ],
   "metadata": {
    "collapsed": false,
    "pycharm": {
     "name": "#%%\n"
    }
   }
  },
  {
   "cell_type": "code",
   "execution_count": null,
   "outputs": [],
   "source": [
    "alldf = pd.merge(newdf1, edf, how='inner',left_on='fips', right_on='GEOID')\n",
    "\n",
    "# CO2 43:77\n",
    "# pop 3:37\n",
    "\n",
    "for i in range(3,38):\n",
    "    year = 1980-3+i\n",
    "    pop = alldf.iloc[:,i]\n",
    "    emission = alldf.iloc[:,i+40]\n",
    "    alldf.iloc[:,i] = emission/pop\n",
    "    cn = alldf.columns[i]\n",
    "    alldf.rename(columns={cn:'em_per_cap'+str(year)},inplace=True)\n",
    "\n",
    "partial = alldf.iloc[:,0:40]\n",
    "partial.head()\n",
    "ddd = partial.to_csv ('/Users/wangbo/Desktop/all_data_final.csv', header=True, index=False)"
   ],
   "metadata": {
    "collapsed": false,
    "pycharm": {
     "name": "#%%\n"
    }
   }
  },
  {
   "cell_type": "code",
   "execution_count": null,
   "outputs": [],
   "source": [
    "import pandas as pd\n",
    "alldf = pd.read_csv('/Users/wangbo/Desktop/all_data_final.csv')\n",
    "# alldf.head()\n",
    "samples = alldf.sample(n=50, random_state=1)\n",
    "samples.head()\n",
    "qaq= samples.to_csv ('/Users/wangbo/Desktop/all_data_samles.csv', header=True, index=False)"
   ],
   "metadata": {
    "collapsed": false,
    "pycharm": {
     "name": "#%%\n"
    }
   }
  },
  {
   "cell_type": "code",
   "execution_count": 22,
   "outputs": [],
   "source": [
    "# get population table\n",
    "import  pandas as pd\n",
    "fpath = '/Users/wangbo/Desktop/population_data.csv'\n",
    "df = pd.read_csv(fpath)\n",
    "popdf = df.loc[:,['fips','pop1980','pop1985','pop1990','pop1995','pop2000','pop2005','pop2009']]\n",
    "popdf = popdf.astype(int)\n",
    "popdf.head()\n",
    "qaq = popdf.to_csv('/Users/wangbo/Desktop/CS5200/finalProject/data/tables/population.csv',header=True,index=False)"
   ],
   "metadata": {
    "collapsed": false,
    "pycharm": {
     "name": "#%%\n",
     "is_executing": false
    }
   }
  },
  {
   "cell_type": "code",
   "execution_count": 1,
   "outputs": [],
   "source": [
    "import pandas as pd\n",
    "# get metro table\n",
    "fpath = '/Users/wangbo/Desktop/CS5200/finalProject/data/tables/metro.csv'\n",
    "cdf = pd.read_csv(fpath)\n",
    "cdf.head()\n",
    "qaq = cdf.to_csv('/Users/wangbo/Desktop/CS5200/finalProject/data/tables/metro.csv',header=True,index=False)\n",
    "\n"
   ],
   "metadata": {
    "collapsed": false,
    "pycharm": {
     "name": "#%%\n",
     "is_executing": false
    }
   }
  },
  {
   "cell_type": "code",
   "execution_count": 21,
   "outputs": [],
   "source": [
    "# get county table\n",
    "fpath = '/Users/wangbo/Desktop/CS5200/finalProject/data/county_lat_lon.csv'\n",
    "cdf = pd.read_csv(fpath)\n",
    "\n",
    "cdf = cdf.loc[:,['STATE','COUNTYNAME','FIPS']]\n",
    "cdf.head()\n",
    "qaq = cdf.to_csv('/Users/wangbo/Desktop/CS5200/finalProject/data/tables/county.csv',header=True,index=False)"
   ],
   "metadata": {
    "collapsed": false,
    "pycharm": {
     "name": "#%%\n",
     "is_executing": false
    }
   }
  },
  {
   "cell_type": "code",
   "execution_count": 23,
   "outputs": [],
   "source": [
    "# get location table\n",
    "fpath = '/Users/wangbo/Desktop/CS5200/finalProject/data/tables/location.csv'\n",
    "cdf = pd.read_csv(fpath)\n",
    "qaq = cdf.to_csv('/Users/wangbo/Desktop/CS5200/finalProject/data/tables/location.csv',header=True,index=False)"
   ],
   "metadata": {
    "collapsed": false,
    "pycharm": {
     "name": "#%%\n",
     "is_executing": false
    }
   }
  }
 ],
 "metadata": {
  "kernelspec": {
   "display_name": "Python 3",
   "language": "python",
   "name": "python3"
  },
  "language_info": {
   "codemirror_mode": {
    "name": "ipython",
    "version": 2
   },
   "file_extension": ".py",
   "mimetype": "text/x-python",
   "name": "python",
   "nbconvert_exporter": "python",
   "pygments_lexer": "ipython2",
   "version": "2.7.6"
  },
  "pycharm": {
   "stem_cell": {
    "cell_type": "raw",
    "source": [],
    "metadata": {
     "collapsed": false
    }
   }
  }
 },
 "nbformat": 4,
 "nbformat_minor": 0
}